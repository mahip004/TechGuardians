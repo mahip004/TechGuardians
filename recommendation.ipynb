{
 "cells": [
  {
   "cell_type": "code",
   "execution_count": 54,
   "metadata": {},
   "outputs": [],
   "source": [
    "import pandas as pd\n",
    "import numpy as np\n",
    "from sklearn.preprocessing import LabelEncoder\n",
    "from sklearn.feature_extraction.text import TfidfVectorizer\n",
    "from scipy.sparse import hstack\n",
    "from sklearn.metrics import pairwise_distances\n",
    "from langdetect import detect, DetectorFactory\n",
    "from langdetect.lang_detect_exception import LangDetectException"
   ]
  },
  {
   "cell_type": "code",
   "execution_count": 55,
   "metadata": {},
   "outputs": [],
   "source": [
    "df = pd.read_csv(\"data.csv\")\n",
    "df.drop(columns=[\"article_id\",\"source_id\",\"content\",\"full_content\"],axis=1,inplace=True)\n",
    "\n",
    "category_counts = df.groupby(\"category\").size()\n",
    "sorted_category_counts = category_counts.sort_values(ascending=False)\n",
    "\n",
    "df = df.groupby(\"category\").filter(lambda x: len(x) >= 500)\n",
    "df.isnull().sum()\n",
    "df.dropna(inplace=True)"
   ]
  },
  {
   "cell_type": "code",
   "execution_count": 56,
   "metadata": {},
   "outputs": [],
   "source": [
    "def detect_language(text):\n",
    "    try:\n",
    "        return detect(text)\n",
    "    except LangDetectException:\n",
    "        return None"
   ]
  },
  {
   "cell_type": "code",
   "execution_count": 57,
   "metadata": {},
   "outputs": [],
   "source": [
    "df[\"title_lang\"] = df[\"title\"].apply(detect_language)\n",
    "df[\"description_lang\"] = df[\"description\"].apply(detect_language)"
   ]
  },
  {
   "cell_type": "code",
   "execution_count": 58,
   "metadata": {},
   "outputs": [],
   "source": [
    "df = df[(df[\"title_lang\"] == \"en\") & (df[\"description_lang\"] == \"en\")]\n",
    "df.drop(columns=['title_lang', 'description_lang'], inplace=True)"
   ]
  },
  {
   "cell_type": "code",
   "execution_count": 59,
   "metadata": {},
   "outputs": [],
   "source": [
    "#Encoding of source and category features\n",
    "\n",
    "label_encoder_source = LabelEncoder()\n",
    "df[\"source_encoded\"] = label_encoder_source.fit_transform(df[\"source_name\"])\n",
    "\n",
    "label_encoder_category = LabelEncoder()\n",
    "df[\"category_encoded\"] = label_encoder_category.fit_transform(df[\"category\"])"
   ]
  },
  {
   "cell_type": "markdown",
   "metadata": {},
   "source": [
    "Using Tf-idf vectorizer to identify less frequently occuring words and giving them appropriate weights"
   ]
  },
  {
   "cell_type": "code",
   "execution_count": 60,
   "metadata": {},
   "outputs": [],
   "source": [
    "tfid_vectorizer_title = TfidfVectorizer(max_features=10000)\n",
    "X_tfid_title = tfid_vectorizer_title.fit_transform(df[\"title\"])\n",
    "\n",
    "tfid_vectorizer_desc = TfidfVectorizer(max_features=10000)\n",
    "X_tfid_desc = tfid_vectorizer_desc.fit_transform(df[\"description\"])\n",
    "\n",
    "#Stacking the features horizontally\n",
    "tfidf_combined_features = hstack([X_tfid_title, X_tfid_desc])"
   ]
  },
  {
   "cell_type": "markdown",
   "metadata": {},
   "source": [
    "Stacking the categorical features and vectorized data"
   ]
  },
  {
   "cell_type": "code",
   "execution_count": 61,
   "metadata": {},
   "outputs": [],
   "source": [
    "def tfidf_based_model(row_index, num_similar_items):\n",
    "\n",
    "    couple_dist = pairwise_distances(tfidf_combined_features, tfidf_combined_features[row_index], metric='euclidean')\n",
    "    \n",
    "    indices = np.argsort(couple_dist.ravel())[1:num_similar_items + 1]\n",
    "\n",
    "    df_similar = pd.DataFrame({\n",
    "        'title': df['title'].iloc[indices].values,\n",
    "        'description': df['description'].iloc[indices].values,\n",
    "        'source': df['source_name'].iloc[indices].values,\n",
    "        'category': df['category'].iloc[indices].values,\n",
    "        'Euclidean similarity with the queried article': couple_dist[indices].ravel()\n",
    "    })\n",
    "    \n",
    "    print(\"=\" * 30, \"Queried article details\", \"=\" * 30)\n",
    "    print('Title : ', df['title'].iloc[row_index])\n",
    "    print('Description : ', df['description'].iloc[row_index])\n",
    "    print('Source : ', df['source_name'].iloc[row_index])\n",
    "    print('Category : ', df['category'].iloc[row_index])\n",
    "    print(\"\\n\", \"=\" * 25, \"Recommended articles : \", \"=\" * 23)\n",
    "\n",
    "    return df_similar\n"
   ]
  },
  {
   "cell_type": "code",
   "execution_count": 66,
   "metadata": {},
   "outputs": [
    {
     "name": "stdout",
     "output_type": "stream",
     "text": [
      "============================== Queried article details ==============================\n",
      "Title :  NFL DFS, Steelers vs. Titans: DraftKings, FanDuel daily Fantasy football picks on Thursday Night Football\n",
      "Description :  Daily Fantasy millionaire Mike McClure shares his top NFL DFS picks for Tennessee Titans vs. Pittsburgh Steelers on TNF\n",
      "Source :  CBS Sports\n",
      "Category :  Games\n",
      "\n",
      " ========================= Recommended articles :  =======================\n",
      "                                                title  \\\n",
      "0   NFL DFS Thursday Night Football picks: Steeler...   \n",
      "1   NFL DFS, Week 9: Top DraftKings, FanDuel daily...   \n",
      "2   Titans vs. Steelers odds, line, spread: Thursd...   \n",
      "3   How to watch tonight's Tennessee Titans vs. Pi...   \n",
      "4   Thursday Night Football odds, spread, line: St...   \n",
      "5   NBA DFS: Top DraftKings, FanDuel daily Fantasy...   \n",
      "6   Thursday Night Football Betting Promos: Titans...   \n",
      "7   Thursday Night Football: Titans lead Steelers ...   \n",
      "8   Steelers vs. Titans props, odds, best bets, AI...   \n",
      "9   Report: Titans' DeAndre Hopkins Expected to Pl...   \n",
      "10  Steelers vs. Titans: Time, live stream, odds, ...   \n",
      "\n",
      "                                          description           source  \\\n",
      "0   Fantasy TNF DFS picks, values, stacks and core...       CBS Sports   \n",
      "1   Daily Fantasy millionaire Mike McClure shares ...       CBS Sports   \n",
      "2   SportsLine's proven model has simulated Pittsb...       CBS Sports   \n",
      "3   The Tennessee Titans and Pittsburgh Steelers f...         CBS News   \n",
      "4   R.J. White has revealed his Thursday Night Foo...       CBS Sports   \n",
      "5   SportsLine's Mike McClure, a daily Fantasy pro...       CBS Sports   \n",
      "6   The best Thursday Night Football betting promo...         Newsweek   \n",
      "7   Titans rookie quarterback Will Levis had a sol...    NBCSports.com   \n",
      "8   SportsLine AI reveals the top NFL prop picks f...       CBS Sports   \n",
      "9   The Tennessee Titans will reportedly have thei...  Bleacher Report   \n",
      "10  Rookie Will Levis will make his second start f...       CBS Sports   \n",
      "\n",
      "                   category  Euclidean similarity with the queried article  \n",
      "0                   America                                       1.005159  \n",
      "1                     Games                                       1.169458  \n",
      "2                     Games                                       1.474359  \n",
      "3                     Games                                       1.496895  \n",
      "4                     Games                                       1.500214  \n",
      "5                     Games                                       1.569755  \n",
      "6                    Sports                                       1.572996  \n",
      "7                     Games                                       1.595785  \n",
      "8   Artificial Intelligence                                       1.619213  \n",
      "9                     Games                                       1.629250  \n",
      "10                   Beauty                                       1.674518  \n"
     ]
    }
   ],
   "source": [
    "result_df = tfidf_based_model(2000, 11)\n",
    "print(result_df)"
   ]
  }
 ],
 "metadata": {
  "kernelspec": {
   "display_name": "base",
   "language": "python",
   "name": "python3"
  },
  "language_info": {
   "codemirror_mode": {
    "name": "ipython",
    "version": 3
   },
   "file_extension": ".py",
   "mimetype": "text/x-python",
   "name": "python",
   "nbconvert_exporter": "python",
   "pygments_lexer": "ipython3",
   "version": "3.11.7"
  }
 },
 "nbformat": 4,
 "nbformat_minor": 2
}
