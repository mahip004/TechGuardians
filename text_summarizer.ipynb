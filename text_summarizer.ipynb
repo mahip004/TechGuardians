{
 "cells": [
  {
   "cell_type": "code",
   "execution_count": 73,
   "metadata": {},
   "outputs": [
    {
     "name": "stderr",
     "output_type": "stream",
     "text": [
      "[nltk_data] Downloading package punkt to\n",
      "[nltk_data]     C:\\Users\\mahim\\AppData\\Roaming\\nltk_data...\n",
      "[nltk_data]   Package punkt is already up-to-date!\n",
      "[nltk_data] Downloading package stopwords to\n",
      "[nltk_data]     C:\\Users\\mahim\\AppData\\Roaming\\nltk_data...\n",
      "[nltk_data]   Package stopwords is already up-to-date!\n"
     ]
    },
    {
     "name": "stdout",
     "output_type": "stream",
     "text": [
      "                                            Sentence\n",
      "0  Telegram chief executive Pavel Durov has been ...\n",
      "1  Mr Durov was detained after his private jet ha...\n",
      "2  According to officials the 39-year-old billion...\n",
      "3  The investigation is reportedly about a lack o...\n",
      "4  The app is accused of failure to cooperate wit...\n"
     ]
    }
   ],
   "source": [
    "import pandas as pd\n",
    "import nltk\n",
    "nltk.download('punkt')\n",
    "from nltk.tokenize import sent_tokenize\n",
    "\n",
    "import re\n",
    "import nltk\n",
    "import pandas as pd\n",
    "import numpy as np\n",
    "from sklearn.preprocessing import LabelEncoder\n",
    "from nltk.corpus import stopwords\n",
    "from nltk.stem.porter import PorterStemmer\n",
    "nltk.download('stopwords')\n",
    "from sklearn.feature_extraction.text import TfidfVectorizer\n",
    "from sklearn.svm import SVC\n",
    "from sklearn.metrics import accuracy_score\n",
    "import spacy\n",
    "from heapq import nlargest\n",
    "from string import punctuation\n",
    "from spacy.lang.en.stop_words import STOP_WORDS\n",
    "from collections import defaultdict\n",
    "\n",
    "\n",
    "\n",
    "\n",
    "\n",
    "# Read the text file\n",
    "with open('article.txt', 'r') as file:\n",
    "    text = file.read()\n",
    "\n",
    "# Split the text into sentences\n",
    "sentences = sent_tokenize(text)\n",
    "\n",
    "# Store the sentences in a DataFrame\n",
    "df = pd.DataFrame(sentences, columns=['Sentence'])\n",
    "\n",
    "# Save the DataFrame to a CSV file\n",
    "df.to_csv('sentences.csv', index=False)\n",
    "\n",
    "# Optionally, print the first few rows of the DataFrame\n",
    "print(df.head())\n"
   ]
  },
  {
   "cell_type": "code",
   "execution_count": 74,
   "metadata": {},
   "outputs": [],
   "source": [
    "df = pd.read_csv(\"sentences.csv\")"
   ]
  },
  {
   "cell_type": "code",
   "execution_count": 75,
   "metadata": {},
   "outputs": [
    {
     "data": {
      "text/html": [
       "<div>\n",
       "<style scoped>\n",
       "    .dataframe tbody tr th:only-of-type {\n",
       "        vertical-align: middle;\n",
       "    }\n",
       "\n",
       "    .dataframe tbody tr th {\n",
       "        vertical-align: top;\n",
       "    }\n",
       "\n",
       "    .dataframe thead th {\n",
       "        text-align: right;\n",
       "    }\n",
       "</style>\n",
       "<table border=\"1\" class=\"dataframe\">\n",
       "  <thead>\n",
       "    <tr style=\"text-align: right;\">\n",
       "      <th></th>\n",
       "      <th>Sentence</th>\n",
       "    </tr>\n",
       "  </thead>\n",
       "  <tbody>\n",
       "    <tr>\n",
       "      <th>0</th>\n",
       "      <td>Telegram chief executive Pavel Durov has been ...</td>\n",
       "    </tr>\n",
       "    <tr>\n",
       "      <th>1</th>\n",
       "      <td>Mr Durov was detained after his private jet ha...</td>\n",
       "    </tr>\n",
       "    <tr>\n",
       "      <th>2</th>\n",
       "      <td>According to officials the 39-year-old billion...</td>\n",
       "    </tr>\n",
       "    <tr>\n",
       "      <th>3</th>\n",
       "      <td>The investigation is reportedly about a lack o...</td>\n",
       "    </tr>\n",
       "    <tr>\n",
       "      <th>4</th>\n",
       "      <td>The app is accused of failure to cooperate wit...</td>\n",
       "    </tr>\n",
       "    <tr>\n",
       "      <th>5</th>\n",
       "      <td>Telegram has previously denied having insuffic...</td>\n",
       "    </tr>\n",
       "    <tr>\n",
       "      <th>6</th>\n",
       "      <td>Pavel Durov was born in Russia and now lives i...</td>\n",
       "    </tr>\n",
       "    <tr>\n",
       "      <th>7</th>\n",
       "      <td>He holds dual citizenship of the United Arab E...</td>\n",
       "    </tr>\n",
       "    <tr>\n",
       "      <th>8</th>\n",
       "      <td>Telegram is particularly popular in Russia, Uk...</td>\n",
       "    </tr>\n",
       "    <tr>\n",
       "      <th>9</th>\n",
       "      <td>The app was banned in Russia in 2018, after a ...</td>\n",
       "    </tr>\n",
       "    <tr>\n",
       "      <th>10</th>\n",
       "      <td>The ban was reversed in 2021.</td>\n",
       "    </tr>\n",
       "    <tr>\n",
       "      <th>11</th>\n",
       "      <td>Telegram is ranked as one of the major social ...</td>\n",
       "    </tr>\n",
       "    <tr>\n",
       "      <th>12</th>\n",
       "      <td>Mr Durov founded Telegram in 2013.</td>\n",
       "    </tr>\n",
       "    <tr>\n",
       "      <th>13</th>\n",
       "      <td>He left Russia in 2014 after refusing to compl...</td>\n",
       "    </tr>\n",
       "    <tr>\n",
       "      <th>14</th>\n",
       "      <td>On Sunday, the Russian Embassy in France wrote...</td>\n",
       "    </tr>\n",
       "    <tr>\n",
       "      <th>15</th>\n",
       "      <td>The post added that French authorities had not...</td>\n",
       "    </tr>\n",
       "    <tr>\n",
       "      <th>16</th>\n",
       "      <td>Russian Foreign ministry spokeswoman Maria Zak...</td>\n",
       "    </tr>\n",
       "    <tr>\n",
       "      <th>17</th>\n",
       "      <td>Several Russian officials condemned the busine...</td>\n",
       "    </tr>\n",
       "    <tr>\n",
       "      <th>18</th>\n",
       "      <td>American whistleblower Edward Snowden, who has...</td>\n",
       "    </tr>\n",
       "    <tr>\n",
       "      <th>19</th>\n",
       "      <td>X owner Elon Musk, who has faced extensive cri...</td>\n",
       "    </tr>\n",
       "    <tr>\n",
       "      <th>20</th>\n",
       "      <td>He hashtagged one post #freepavel, and in anot...</td>\n",
       "    </tr>\n",
       "    <tr>\n",
       "      <th>21</th>\n",
       "      <td>Telegram allows groups of up to 200,000 member...</td>\n",
       "    </tr>\n",
       "    <tr>\n",
       "      <th>22</th>\n",
       "      <td>In the UK, the app was scrutinised for hosting...</td>\n",
       "    </tr>\n",
       "    <tr>\n",
       "      <th>23</th>\n",
       "      <td>Telegram did remove some groups, but overall i...</td>\n",
       "    </tr>\n",
       "  </tbody>\n",
       "</table>\n",
       "</div>"
      ],
      "text/plain": [
       "                                             Sentence\n",
       "0   Telegram chief executive Pavel Durov has been ...\n",
       "1   Mr Durov was detained after his private jet ha...\n",
       "2   According to officials the 39-year-old billion...\n",
       "3   The investigation is reportedly about a lack o...\n",
       "4   The app is accused of failure to cooperate wit...\n",
       "5   Telegram has previously denied having insuffic...\n",
       "6   Pavel Durov was born in Russia and now lives i...\n",
       "7   He holds dual citizenship of the United Arab E...\n",
       "8   Telegram is particularly popular in Russia, Uk...\n",
       "9   The app was banned in Russia in 2018, after a ...\n",
       "10                      The ban was reversed in 2021.\n",
       "11  Telegram is ranked as one of the major social ...\n",
       "12                 Mr Durov founded Telegram in 2013.\n",
       "13  He left Russia in 2014 after refusing to compl...\n",
       "14  On Sunday, the Russian Embassy in France wrote...\n",
       "15  The post added that French authorities had not...\n",
       "16  Russian Foreign ministry spokeswoman Maria Zak...\n",
       "17  Several Russian officials condemned the busine...\n",
       "18  American whistleblower Edward Snowden, who has...\n",
       "19  X owner Elon Musk, who has faced extensive cri...\n",
       "20  He hashtagged one post #freepavel, and in anot...\n",
       "21  Telegram allows groups of up to 200,000 member...\n",
       "22  In the UK, the app was scrutinised for hosting...\n",
       "23  Telegram did remove some groups, but overall i..."
      ]
     },
     "execution_count": 75,
     "metadata": {},
     "output_type": "execute_result"
    }
   ],
   "source": [
    "df"
   ]
  },
  {
   "cell_type": "code",
   "execution_count": 76,
   "metadata": {},
   "outputs": [],
   "source": [
    "\n",
    "stop_words = set(stopwords.words('english'))\n",
    "\n"
   ]
  },
  {
   "cell_type": "code",
   "execution_count": 77,
   "metadata": {},
   "outputs": [],
   "source": [
    "with open('article.txt', 'r') as file :\n",
    "    text = file.read()"
   ]
  },
  {
   "cell_type": "code",
   "execution_count": 78,
   "metadata": {},
   "outputs": [
    {
     "name": "stdout",
     "output_type": "stream",
     "text": [
      "3121\n"
     ]
    },
    {
     "data": {
      "text/plain": [
       "'Telegram chief executive Pavel Durov has been arrested by French police at an airport north of Paris.\\nMr Durov was detained after his private jet had landed at Le Bourget Airport, French media reported.\\nAccording to officials the 39-year-old billionaire was arrested under a warrant for offences related to the popular messaging app. The investigation is reportedly about a lack of moderation, with Mr Durov accused of failing to take steps to curb criminal uses of Telegram.\\nThe app is accused of failure to cooperate with law enforcement over drug trafficking, child sexual content and fraud. Telegram has previously denied having insufficient moderation.\\nPavel Durov was born in Russia and now lives in Dubai, where Telegram is based. He holds dual citizenship of the United Arab Emirates and France.\\nTelegram is particularly popular in Russia, Ukraine and former Soviet Union states.\\nThe app was banned in Russia in 2018, after a previous refusal by him to hand over user data. The ban was reversed in 2021.\\nTelegram is ranked as one of the major social media platforms after Facebook, YouTube, WhatsApp, Instagram, TikTok and Wechat.\\nMr Durov founded Telegram in 2013. He left Russia in 2014 after refusing to comply with government demands to shut down opposition communities on his VKontakte social media platform, which he sold.\\nOn Sunday, the Russian Embassy in France wrote on Facebook that it was seeking to \"clarify the reasons for the detention and to provide for the protection of Mr Durov’s rights and facilitate consular access\".\\nThe post added that French authorities had not been cooperating with Russian officials.\\nRussian Foreign ministry spokeswoman Maria Zakharova posted on Telegram asking whether Western human rights NGOs would be silent on Mr Durov\\'s arrest, after they criticised Russia’s decision to “create obstacles” to the work of Telegram in Russia in 2018.\\nSeveral Russian officials condemned the businessman\\'s arrest, saying it showed the West has double standards when it comes to free speech and democracy.\\nAmerican whistleblower Edward Snowden, who has been living in exile in Russia since 2013, said on X that Mr Durov\\'s arrest \"was an assault on the basic human rights of speech and association\".\\nX owner Elon Musk, who has faced extensive criticism over moderation and material hosted by his own social media site, posted repeatedly about the situation.\\nHe hashtagged one post #freepavel, and in another wrote: \"POV [Point of view]: It’s 2030 in Europe and you’re being executed for liking a meme.\"\\nTelegram allows groups of up to 200,000 members, which critics have argued makes it easier for misinformation to spread, and for users to share conspiracist, neo-Nazi, paedophilic, or terror-related content.\\nIn the UK, the app was scrutinised for hosting far-right channels that were instrumental in organising the violent disorder in English cities earlier this month.\\nTelegram did remove some groups, but overall its system of moderating extremist and illegal content is significantly weaker than that of other social media companies and messenger apps, say cybersecurity experts.'"
      ]
     },
     "execution_count": 78,
     "metadata": {},
     "output_type": "execute_result"
    }
   ],
   "source": [
    "print(len(text))\n",
    "text"
   ]
  },
  {
   "cell_type": "code",
   "execution_count": 95,
   "metadata": {},
   "outputs": [],
   "source": [
    "\n",
    "sen = text.split(' ')\n",
    "size = int(len(sen) * 0.2)\n",
    "size1 = int(len(sen))\n",
    "priority = []\n",
    "for i in range(0, size):\n",
    "    priority.append(sen[i])\n",
    "    priority.append(sen[size1 - i -1])\n",
    "\n",
    "\n",
    "    "
   ]
  },
  {
   "cell_type": "code",
   "execution_count": 113,
   "metadata": {},
   "outputs": [],
   "source": [
    "\n",
    "# Ensure you have the stopwords downloaded from NLTK\n",
    "STOP_WORDS = set(stopwords.words('english'))\n",
    "\n",
    "def textSummarizer(text, percentage):\n",
    "    # Load the model into spaCy\n",
    "    nlp = spacy.load('en_core_web_sm')\n",
    "    \n",
    "    # Pass the text into the nlp function\n",
    "    doc = nlp(text)\n",
    "    \n",
    "    # Frequency table for words\n",
    "    freq_of_word = defaultdict(int)\n",
    "    for token in doc:\n",
    "        \n",
    "        # Consider only nouns and significant words\n",
    "        if token.text.lower() not in STOP_WORDS and token.text not in punctuation:\n",
    "            \n",
    "            if token.pos_ == 'NOUN':\n",
    "                \n",
    "                # Give more weight to nouns (e.g., multiply by 2)\n",
    "                freq_of_word[token.text] += 2\n",
    "            if token.text in priority:\n",
    "                freq_of_word[token.text] += 4\n",
    "            else:\n",
    "                freq_of_word[token.text] += 1\n",
    "    \n",
    "    # Maximum frequency of word\n",
    "    max_freq = max(freq_of_word.values(), default=1)  # Avoid division by zero\n",
    "    \n",
    "    # Normalization of word frequency\n",
    "    for word in freq_of_word.keys():\n",
    "        freq_of_word[word] = freq_of_word[word] / max_freq\n",
    "        \n",
    "    # Score sentences\n",
    "    sent_scores = defaultdict(int)\n",
    "    for sent in doc.sents:\n",
    "        for word in sent:\n",
    "            if word.text.lower() in freq_of_word:\n",
    "                sent_scores[sent] += freq_of_word[word.text.lower()]\n",
    "    \n",
    "    # Determine number of sentences for summary\n",
    "    len_tokens = int(len(list(doc.sents)) * percentage)\n",
    "    \n",
    "    # Select sentences with the highest scores\n",
    "    summary = nlargest(n=len_tokens, iterable=sent_scores, key=sent_scores.get)\n",
    "    \n",
    "    # Convert doc.sents to a list for indexing\n",
    "    sent_list = list(doc.sents)\n",
    "    \n",
    "    # Prepare final summary in original order\n",
    "    final_summary = sorted(summary, key=lambda x: sent_list.index(x))\n",
    "    \n",
    "    # Convert to a string\n",
    "    summary_text = \" \".join([sent.text for sent in final_summary])\n",
    "    \n",
    "    return summary_text\n"
   ]
  },
  {
   "cell_type": "code",
   "execution_count": 115,
   "metadata": {},
   "outputs": [
    {
     "name": "stdout",
     "output_type": "stream",
     "text": [
      "The number of words in given text is :\n",
      "1404\n",
      "The summary is:\n",
      "Mr Durov was detained after his private jet had landed at Le Bourget Airport, French media reported.\n",
      " According to officials the 39-year-old billionaire was arrested under a warrant for offences related to the popular messaging app. The investigation is reportedly about a lack of moderation, with Mr Durov accused of failing to take steps to curb criminal uses of Telegram.\n",
      " The app is accused of failure to cooperate with law enforcement over drug trafficking, child sexual content and fraud. He left Russia in 2014 after refusing to comply with government demands to shut down opposition communities on his VKontakte social media platform, which he sold.\n",
      " X owner Elon Musk, who has faced extensive criticism over moderation and material hosted by his own social media site, posted repeatedly about the situation.\n",
      " \"\n",
      "Telegram allows groups of up to 200,000 members, which critics have argued makes it easier for misinformation to spread, and for users to share conspiracist, neo-Nazi, paedophilic, or terror-related content.\n",
      " In the UK, the app was scrutinised for hosting far-right channels that were instrumental in organising the violent disorder in English cities earlier this month.\n",
      " Telegram did remove some groups, but overall its system of moderating extremist and illegal content is significantly weaker than that of other social media companies and messenger apps, say cybersecurity experts.\n"
     ]
    }
   ],
   "source": [
    "print(\"The number of words in given text is :\")\n",
    "final_summary = textSummarizer(text, 0.4)\n",
    "print(len(final_summary))\n",
    "print(\"The summary is:\")\n",
    "print(final_summary)"
   ]
  }
 ],
 "metadata": {
  "kernelspec": {
   "display_name": "base",
   "language": "python",
   "name": "python3"
  },
  "language_info": {
   "codemirror_mode": {
    "name": "ipython",
    "version": 3
   },
   "file_extension": ".py",
   "mimetype": "text/x-python",
   "name": "python",
   "nbconvert_exporter": "python",
   "pygments_lexer": "ipython3",
   "version": "3.11.7"
  }
 },
 "nbformat": 4,
 "nbformat_minor": 2
}
